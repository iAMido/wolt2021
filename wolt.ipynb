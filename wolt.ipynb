{
 "cells": [
  {
   "cell_type": "code",
   "execution_count": null,
   "metadata": {},
   "outputs": [],
   "source": [
    "import json\n",
    "import pandas as pd\n",
    "import matplotlib.pyplot as plt\n",
    "import plotly.graph_objects as go\n",
    "from plotly.subplots import make_subplots\n",
    "from datetime import datetime\n",
    "\n",
    "def getyearmonth(row):\n",
    "    return datetime.utcfromtimestamp(row['delivery_time.$date']/1000).strftime('%Y-%m')\n",
    "\n",
    "f = open('temp/ido.json')\n",
    "myjson = json.load(f)\n",
    "\n",
    "orders = pd.json_normalize(myjson)\n",
    "orders['venue_name_fixed'] = orders['venue_name'].str.extract(r'([^\\\\/|+]*)')\n",
    "orders[\"year-month\"] = orders.apply(lambda row: getyearmonth(row), axis=1)\n",
    "orders = orders[orders['year-month'].str.startswith('2021')]"
   ]
  },
  {
   "cell_type": "code",
   "execution_count": null,
   "metadata": {},
   "outputs": [],
   "source": [
    "best_rest = orders.groupby('venue_name_fixed').sum('total_price')\n",
    "best_rest = best_rest.sort_values('total_price', ascending=False).total_price/100\n",
    "best_rest\n"
   ]
  },
  {
   "cell_type": "code",
   "execution_count": null,
   "metadata": {},
   "outputs": [],
   "source": [
    "orders.groupby('year-month').sum('total_price').total_price/100"
   ]
  },
  {
   "cell_type": "code",
   "execution_count": null,
   "metadata": {},
   "outputs": [],
   "source": [
    "items = orders.explode('items')\n",
    "items = items[items['items'].notna()]\n",
    "items[\"item_name\"] = items['items'].map(lambda x : x[\"name\"])\n",
    "items[\"item_count\"] = items['items'].map(lambda x : x[\"count\"])\n",
    "items[\"item_total_price\"] = items['items'].map(lambda x : x[\"end_amount\"])\n",
    "\n",
    "best_items = items.groupby('item_name').sum('item_total_price')\n",
    "best_items.sort_values('item_total_price', ascending=False).item_total_price/100"
   ]
  },
  {
   "cell_type": "code",
   "execution_count": null,
   "metadata": {},
   "outputs": [],
   "source": [
    "total_orders = orders['order_id'].count()\n",
    "total_expenses = orders['total_price'].sum()/100\n",
    "average_order = orders['total_price'].mean()/100\n"
   ]
  },
  {
   "cell_type": "code",
   "execution_count": null,
   "metadata": {},
   "outputs": [],
   "source": []
  }
 ],
 "metadata": {
  "interpreter": {
   "hash": "4a38d7827957f74bd6a0df63e2a0c44f829ed6538dd08032800214a20ba8058e"
  },
  "kernelspec": {
   "display_name": "Python 3.9.9 64-bit ('.venv': venv)",
   "language": "python",
   "name": "python3"
  },
  "language_info": {
   "codemirror_mode": {
    "name": "ipython",
    "version": 3
   },
   "file_extension": ".py",
   "mimetype": "text/x-python",
   "name": "python",
   "nbconvert_exporter": "python",
   "pygments_lexer": "ipython3",
   "version": "3.9.9"
  },
  "orig_nbformat": 4
 },
 "nbformat": 4,
 "nbformat_minor": 2
}
